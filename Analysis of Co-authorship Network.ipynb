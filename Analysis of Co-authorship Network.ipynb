{
 "cells": [
  {
   "cell_type": "markdown",
   "metadata": {},
   "source": [
    "# Finding Answers:"
   ]
  },
  {
   "cell_type": "markdown",
   "metadata": {},
   "source": [
    "# Importing Libraries:"
   ]
  },
  {
   "cell_type": "code",
   "execution_count": 1,
   "metadata": {},
   "outputs": [],
   "source": [
    "import pandas as pd\n",
    "import numpy as np\n",
    "import seaborn as sns\n",
    "import matplotlib.pyplot as plt\n",
    "pd.set_option('display.max_columns',None)\n",
    "pd.set_option('display.max_rows',None)"
   ]
  },
  {
   "cell_type": "markdown",
   "metadata": {},
   "source": [
    "# Importing Dataset:"
   ]
  },
  {
   "cell_type": "markdown",
   "metadata": {},
   "source": [
    "We imported the previously created csv file and load it as a pandas dataframe"
   ]
  },
  {
   "cell_type": "code",
   "execution_count": 2,
   "metadata": {},
   "outputs": [],
   "source": [
    "df = pd.read_csv('scopus.csv')"
   ]
  },
  {
   "cell_type": "code",
   "execution_count": 3,
   "metadata": {
    "scrolled": true
   },
   "outputs": [
    {
     "data": {
      "text/html": [
       "<div>\n",
       "<style scoped>\n",
       "    .dataframe tbody tr th:only-of-type {\n",
       "        vertical-align: middle;\n",
       "    }\n",
       "\n",
       "    .dataframe tbody tr th {\n",
       "        vertical-align: top;\n",
       "    }\n",
       "\n",
       "    .dataframe thead th {\n",
       "        text-align: right;\n",
       "    }\n",
       "</style>\n",
       "<table border=\"1\" class=\"dataframe\">\n",
       "  <thead>\n",
       "    <tr style=\"text-align: right;\">\n",
       "      <th></th>\n",
       "      <th>Authors</th>\n",
       "      <th>Author(s) ID</th>\n",
       "      <th>Title</th>\n",
       "      <th>Year</th>\n",
       "      <th>Source title</th>\n",
       "      <th>Volume</th>\n",
       "      <th>Issue</th>\n",
       "      <th>Art. No.</th>\n",
       "      <th>Page start</th>\n",
       "      <th>Page end</th>\n",
       "      <th>Page count</th>\n",
       "      <th>Cited by</th>\n",
       "      <th>DOI</th>\n",
       "      <th>Link</th>\n",
       "      <th>Affiliations</th>\n",
       "      <th>Authors with affiliations</th>\n",
       "      <th>Author Keywords</th>\n",
       "      <th>Index Keywords</th>\n",
       "      <th>Funding Details</th>\n",
       "      <th>Funding Text 1</th>\n",
       "      <th>Funding Text 2</th>\n",
       "      <th>Funding Text 3</th>\n",
       "      <th>Correspondence Address</th>\n",
       "      <th>Publisher</th>\n",
       "    </tr>\n",
       "  </thead>\n",
       "  <tbody>\n",
       "    <tr>\n",
       "      <th>0</th>\n",
       "      <td>Nunes P.F., Ostan I., Siqueira A.A.G.</td>\n",
       "      <td>56890685900;57219801717;7003788864;</td>\n",
       "      <td>Evaluation of Motor Primitive-Based Adaptive C...</td>\n",
       "      <td>2020</td>\n",
       "      <td>Frontiers in Robotics and AI</td>\n",
       "      <td>7</td>\n",
       "      <td>NaN</td>\n",
       "      <td>575217</td>\n",
       "      <td>NaN</td>\n",
       "      <td>NaN</td>\n",
       "      <td>NaN</td>\n",
       "      <td>NaN</td>\n",
       "      <td>10.3389/frobt.2020.575217</td>\n",
       "      <td>https://www.scopus.com/inward/record.uri?eid=2...</td>\n",
       "      <td>Rehabilitation Robotics Laboratory, Department...</td>\n",
       "      <td>Nunes, P.F., Rehabilitation Robotics Laborator...</td>\n",
       "      <td>biomechatronics; exoskeleton; lower limbs; mot...</td>\n",
       "      <td>NaN</td>\n",
       "      <td>Fundação de Amparo à Pesquisa do Estado de São...</td>\n",
       "      <td>This work was financed in part by the Coordena...</td>\n",
       "      <td>Funding. This work was financed in part by the...</td>\n",
       "      <td>NaN</td>\n",
       "      <td>Nunes, P.F.; Rehabilitation Robotics Laborator...</td>\n",
       "      <td>Frontiers Media S.A.</td>\n",
       "    </tr>\n",
       "    <tr>\n",
       "      <th>1</th>\n",
       "      <td>Zhang Z., Liao J., Zhao J., Wang L.</td>\n",
       "      <td>56725003500;57218449216;57129187500;57221637213;</td>\n",
       "      <td>Integration Design Method of Configuration and...</td>\n",
       "      <td>2020</td>\n",
       "      <td>Jixie Gongcheng Xuebao/Journal of Mechanical E...</td>\n",
       "      <td>56</td>\n",
       "      <td>23</td>\n",
       "      <td>NaN</td>\n",
       "      <td>58</td>\n",
       "      <td>66</td>\n",
       "      <td>NaN</td>\n",
       "      <td>NaN</td>\n",
       "      <td>10.3901/JME.2020.23.058</td>\n",
       "      <td>https://www.scopus.com/inward/record.uri?eid=2...</td>\n",
       "      <td>Faculty of Materials and Manufacturing, Beijin...</td>\n",
       "      <td>Zhang, Z., Faculty of Materials and Manufactur...</td>\n",
       "      <td>Bio-inspired mechanism; Design method; Eight-b...</td>\n",
       "      <td>Biomimetics; Integration; Kinematics; Basic ki...</td>\n",
       "      <td>NaN</td>\n",
       "      <td>NaN</td>\n",
       "      <td>NaN</td>\n",
       "      <td>NaN</td>\n",
       "      <td>Zhao, J.; Faculty of Materials and Manufacturi...</td>\n",
       "      <td>Chinese Mechanical Engineering Society</td>\n",
       "    </tr>\n",
       "    <tr>\n",
       "      <th>2</th>\n",
       "      <td>Bonzon P.</td>\n",
       "      <td>6602380487;</td>\n",
       "      <td>Modeling the Synchronization of Multimodal Per...</td>\n",
       "      <td>2020</td>\n",
       "      <td>Frontiers in Neurorobotics</td>\n",
       "      <td>14</td>\n",
       "      <td>NaN</td>\n",
       "      <td>570358</td>\n",
       "      <td>NaN</td>\n",
       "      <td>NaN</td>\n",
       "      <td>NaN</td>\n",
       "      <td>NaN</td>\n",
       "      <td>10.3389/fnbot.2020.570358</td>\n",
       "      <td>https://www.scopus.com/inward/record.uri?eid=2...</td>\n",
       "      <td>Department of Information Systems, Faculty of ...</td>\n",
       "      <td>Bonzon, P., Department of Information Systems,...</td>\n",
       "      <td>behavioral learning; developmental cognition; ...</td>\n",
       "      <td>Biology; Decision trees; Software engineering;...</td>\n",
       "      <td>NaN</td>\n",
       "      <td>NaN</td>\n",
       "      <td>NaN</td>\n",
       "      <td>NaN</td>\n",
       "      <td>Bonzon, P.; Department of Information Systems,...</td>\n",
       "      <td>Frontiers Media S.A.</td>\n",
       "    </tr>\n",
       "    <tr>\n",
       "      <th>3</th>\n",
       "      <td>Melchiorre L., Marasco I., Niro G., Basile V.,...</td>\n",
       "      <td>57222498750;57216460799;57216456218;5664613800...</td>\n",
       "      <td>Bio-inspired dielectric resonator antenna for ...</td>\n",
       "      <td>2020</td>\n",
       "      <td>Applied Sciences (Switzerland)</td>\n",
       "      <td>10</td>\n",
       "      <td>24</td>\n",
       "      <td>8826</td>\n",
       "      <td>1</td>\n",
       "      <td>13</td>\n",
       "      <td>NaN</td>\n",
       "      <td>NaN</td>\n",
       "      <td>10.3390/app10248826</td>\n",
       "      <td>https://www.scopus.com/inward/record.uri?eid=2...</td>\n",
       "      <td>Politecnico di Bari, Dipartimento di Ingegneri...</td>\n",
       "      <td>Melchiorre, L., Politecnico di Bari, Dipartime...</td>\n",
       "      <td>Bio-inspiration; Dielectric resonator antennas...</td>\n",
       "      <td>NaN</td>\n",
       "      <td>NaN</td>\n",
       "      <td>NaN</td>\n",
       "      <td>NaN</td>\n",
       "      <td>NaN</td>\n",
       "      <td>Marasco, I.; Politecnico di Bari, Via E. Orabo...</td>\n",
       "      <td>MDPI AG</td>\n",
       "    </tr>\n",
       "    <tr>\n",
       "      <th>4</th>\n",
       "      <td>Peyrottes A., Coquant G., Brot L., Rainteau D....</td>\n",
       "      <td>57220745133;57218923052;57188856100;6602670512...</td>\n",
       "      <td>Anti-inflammatory effects of analogues of N-ac...</td>\n",
       "      <td>2020</td>\n",
       "      <td>International Journal of Molecular Sciences</td>\n",
       "      <td>21</td>\n",
       "      <td>24</td>\n",
       "      <td>9448</td>\n",
       "      <td>1</td>\n",
       "      <td>19</td>\n",
       "      <td>NaN</td>\n",
       "      <td>NaN</td>\n",
       "      <td>10.3390/ijms21249448</td>\n",
       "      <td>https://www.scopus.com/inward/record.uri?eid=2...</td>\n",
       "      <td>Laboratoire des Biomolécules(LBM), Département...</td>\n",
       "      <td>Peyrottes, A., Laboratoire des Biomolécules(LB...</td>\n",
       "      <td>AHL; Gut microbiota; Inflammatory bowel disease</td>\n",
       "      <td>2 pyrrolidone derivative; antiinflammatory age...</td>\n",
       "      <td>Pfizer\\n\\nJanssen Biotech\\n\\nAbbVie\\n\\nTakeda ...</td>\n",
       "      <td>This research was funded by Fondation pour la ...</td>\n",
       "      <td>Conflicts of Interest: P.S. declares consultin...</td>\n",
       "      <td>Funding: This research was funded by Fondation...</td>\n",
       "      <td>Seksik, P.; INSERM, France; email: philippe.se...</td>\n",
       "      <td>MDPI AG</td>\n",
       "    </tr>\n",
       "  </tbody>\n",
       "</table>\n",
       "</div>"
      ],
      "text/plain": [
       "                                             Authors  \\\n",
       "0              Nunes P.F., Ostan I., Siqueira A.A.G.   \n",
       "1                Zhang Z., Liao J., Zhao J., Wang L.   \n",
       "2                                          Bonzon P.   \n",
       "3  Melchiorre L., Marasco I., Niro G., Basile V.,...   \n",
       "4  Peyrottes A., Coquant G., Brot L., Rainteau D....   \n",
       "\n",
       "                                        Author(s) ID  \\\n",
       "0                56890685900;57219801717;7003788864;   \n",
       "1   56725003500;57218449216;57129187500;57221637213;   \n",
       "2                                        6602380487;   \n",
       "3  57222498750;57216460799;57216456218;5664613800...   \n",
       "4  57220745133;57218923052;57188856100;6602670512...   \n",
       "\n",
       "                                               Title  Year  \\\n",
       "0  Evaluation of Motor Primitive-Based Adaptive C...  2020   \n",
       "1  Integration Design Method of Configuration and...  2020   \n",
       "2  Modeling the Synchronization of Multimodal Per...  2020   \n",
       "3  Bio-inspired dielectric resonator antenna for ...  2020   \n",
       "4  Anti-inflammatory effects of analogues of N-ac...  2020   \n",
       "\n",
       "                                        Source title Volume Issue Art. No.  \\\n",
       "0                       Frontiers in Robotics and AI      7   NaN   575217   \n",
       "1  Jixie Gongcheng Xuebao/Journal of Mechanical E...     56    23      NaN   \n",
       "2                         Frontiers in Neurorobotics     14   NaN   570358   \n",
       "3                     Applied Sciences (Switzerland)     10    24     8826   \n",
       "4        International Journal of Molecular Sciences     21    24     9448   \n",
       "\n",
       "  Page start Page end  Page count  Cited by                        DOI  \\\n",
       "0        NaN      NaN         NaN       NaN  10.3389/frobt.2020.575217   \n",
       "1         58       66         NaN       NaN    10.3901/JME.2020.23.058   \n",
       "2        NaN      NaN         NaN       NaN  10.3389/fnbot.2020.570358   \n",
       "3          1       13         NaN       NaN        10.3390/app10248826   \n",
       "4          1       19         NaN       NaN       10.3390/ijms21249448   \n",
       "\n",
       "                                                Link  \\\n",
       "0  https://www.scopus.com/inward/record.uri?eid=2...   \n",
       "1  https://www.scopus.com/inward/record.uri?eid=2...   \n",
       "2  https://www.scopus.com/inward/record.uri?eid=2...   \n",
       "3  https://www.scopus.com/inward/record.uri?eid=2...   \n",
       "4  https://www.scopus.com/inward/record.uri?eid=2...   \n",
       "\n",
       "                                        Affiliations  \\\n",
       "0  Rehabilitation Robotics Laboratory, Department...   \n",
       "1  Faculty of Materials and Manufacturing, Beijin...   \n",
       "2  Department of Information Systems, Faculty of ...   \n",
       "3  Politecnico di Bari, Dipartimento di Ingegneri...   \n",
       "4  Laboratoire des Biomolécules(LBM), Département...   \n",
       "\n",
       "                           Authors with affiliations  \\\n",
       "0  Nunes, P.F., Rehabilitation Robotics Laborator...   \n",
       "1  Zhang, Z., Faculty of Materials and Manufactur...   \n",
       "2  Bonzon, P., Department of Information Systems,...   \n",
       "3  Melchiorre, L., Politecnico di Bari, Dipartime...   \n",
       "4  Peyrottes, A., Laboratoire des Biomolécules(LB...   \n",
       "\n",
       "                                     Author Keywords  \\\n",
       "0  biomechatronics; exoskeleton; lower limbs; mot...   \n",
       "1  Bio-inspired mechanism; Design method; Eight-b...   \n",
       "2  behavioral learning; developmental cognition; ...   \n",
       "3  Bio-inspiration; Dielectric resonator antennas...   \n",
       "4    AHL; Gut microbiota; Inflammatory bowel disease   \n",
       "\n",
       "                                      Index Keywords  \\\n",
       "0                                                NaN   \n",
       "1  Biomimetics; Integration; Kinematics; Basic ki...   \n",
       "2  Biology; Decision trees; Software engineering;...   \n",
       "3                                                NaN   \n",
       "4  2 pyrrolidone derivative; antiinflammatory age...   \n",
       "\n",
       "                                     Funding Details  \\\n",
       "0  Fundação de Amparo à Pesquisa do Estado de São...   \n",
       "1                                                NaN   \n",
       "2                                                NaN   \n",
       "3                                                NaN   \n",
       "4  Pfizer\\n\\nJanssen Biotech\\n\\nAbbVie\\n\\nTakeda ...   \n",
       "\n",
       "                                      Funding Text 1  \\\n",
       "0  This work was financed in part by the Coordena...   \n",
       "1                                                NaN   \n",
       "2                                                NaN   \n",
       "3                                                NaN   \n",
       "4  This research was funded by Fondation pour la ...   \n",
       "\n",
       "                                      Funding Text 2  \\\n",
       "0  Funding. This work was financed in part by the...   \n",
       "1                                                NaN   \n",
       "2                                                NaN   \n",
       "3                                                NaN   \n",
       "4  Conflicts of Interest: P.S. declares consultin...   \n",
       "\n",
       "                                      Funding Text 3  \\\n",
       "0                                                NaN   \n",
       "1                                                NaN   \n",
       "2                                                NaN   \n",
       "3                                                NaN   \n",
       "4  Funding: This research was funded by Fondation...   \n",
       "\n",
       "                              Correspondence Address  \\\n",
       "0  Nunes, P.F.; Rehabilitation Robotics Laborator...   \n",
       "1  Zhao, J.; Faculty of Materials and Manufacturi...   \n",
       "2  Bonzon, P.; Department of Information Systems,...   \n",
       "3  Marasco, I.; Politecnico di Bari, Via E. Orabo...   \n",
       "4  Seksik, P.; INSERM, France; email: philippe.se...   \n",
       "\n",
       "                                Publisher  \n",
       "0                    Frontiers Media S.A.  \n",
       "1  Chinese Mechanical Engineering Society  \n",
       "2                    Frontiers Media S.A.  \n",
       "3                                 MDPI AG  \n",
       "4                                 MDPI AG  "
      ]
     },
     "execution_count": 3,
     "metadata": {},
     "output_type": "execute_result"
    }
   ],
   "source": [
    "df.head()"
   ]
  },
  {
   "cell_type": "code",
   "execution_count": 4,
   "metadata": {},
   "outputs": [
    {
     "data": {
      "text/plain": [
       "Authors                                  Nunes P.F., Ostan I., Siqueira A.A.G.\n",
       "Author(s) ID                               56890685900;57219801717;7003788864;\n",
       "Title                        Evaluation of Motor Primitive-Based Adaptive C...\n",
       "Year                                                                      2020\n",
       "Source title                                      Frontiers in Robotics and AI\n",
       "Volume                                                                       7\n",
       "Issue                                                                      NaN\n",
       "Art. No.                                                                575217\n",
       "Page start                                                                 NaN\n",
       "Page end                                                                   NaN\n",
       "Page count                                                                 NaN\n",
       "Cited by                                                                   NaN\n",
       "DOI                                                  10.3389/frobt.2020.575217\n",
       "Link                         https://www.scopus.com/inward/record.uri?eid=2...\n",
       "Affiliations                 Rehabilitation Robotics Laboratory, Department...\n",
       "Authors with affiliations    Nunes, P.F., Rehabilitation Robotics Laborator...\n",
       "Author Keywords              biomechatronics; exoskeleton; lower limbs; mot...\n",
       "Index Keywords                                                             NaN\n",
       "Funding Details              Fundação de Amparo à Pesquisa do Estado de São...\n",
       "Funding Text 1               This work was financed in part by the Coordena...\n",
       "Funding Text 2               Funding. This work was financed in part by the...\n",
       "Funding Text 3                                                             NaN\n",
       "Correspondence Address       Nunes, P.F.; Rehabilitation Robotics Laborator...\n",
       "Publisher                                                 Frontiers Media S.A.\n",
       "Name: 0, dtype: object"
      ]
     },
     "execution_count": 4,
     "metadata": {},
     "output_type": "execute_result"
    }
   ],
   "source": [
    "df.loc[0]"
   ]
  },
  {
   "cell_type": "markdown",
   "metadata": {},
   "source": [
    "# Properties of Dataset:"
   ]
  },
  {
   "cell_type": "code",
   "execution_count": 5,
   "metadata": {
    "scrolled": false
   },
   "outputs": [
    {
     "data": {
      "text/plain": [
       "(1504, 24)"
      ]
     },
     "execution_count": 5,
     "metadata": {},
     "output_type": "execute_result"
    }
   ],
   "source": [
    "df.shape\n"
   ]
  },
  {
   "cell_type": "markdown",
   "metadata": {},
   "source": [
    "Columns of Database:"
   ]
  },
  {
   "cell_type": "code",
   "execution_count": 6,
   "metadata": {},
   "outputs": [
    {
     "data": {
      "text/plain": [
       "Index(['Authors', 'Author(s) ID', 'Title', 'Year', 'Source title', 'Volume',\n",
       "       'Issue', 'Art. No.', 'Page start', 'Page end', 'Page count', 'Cited by',\n",
       "       'DOI', 'Link', 'Affiliations', 'Authors with affiliations',\n",
       "       'Author Keywords', 'Index Keywords', 'Funding Details',\n",
       "       'Funding Text 1', 'Funding Text 2', 'Funding Text 3',\n",
       "       'Correspondence Address', 'Publisher'],\n",
       "      dtype='object')"
      ]
     },
     "execution_count": 6,
     "metadata": {},
     "output_type": "execute_result"
    }
   ],
   "source": [
    "df.columns"
   ]
  },
  {
   "cell_type": "markdown",
   "metadata": {},
   "source": [
    "Returns the number of missing values in the Data set"
   ]
  },
  {
   "cell_type": "code",
   "execution_count": 7,
   "metadata": {},
   "outputs": [
    {
     "data": {
      "text/plain": [
       "Authors                         0\n",
       "Author(s) ID                    0\n",
       "Title                           0\n",
       "Year                            0\n",
       "Source title                    0\n",
       "Volume                          0\n",
       "Issue                         466\n",
       "Art. No.                     1039\n",
       "Page start                    273\n",
       "Page end                      274\n",
       "Page count                   1503\n",
       "Cited by                      252\n",
       "DOI                            73\n",
       "Link                            0\n",
       "Affiliations                    2\n",
       "Authors with affiliations       0\n",
       "Author Keywords                69\n",
       "Index Keywords                324\n",
       "Funding Details               822\n",
       "Funding Text 1                765\n",
       "Funding Text 2               1369\n",
       "Funding Text 3               1492\n",
       "Correspondence Address        183\n",
       "Publisher                       1\n",
       "dtype: int64"
      ]
     },
     "execution_count": 7,
     "metadata": {},
     "output_type": "execute_result"
    }
   ],
   "source": [
    "df.isnull().sum()"
   ]
  },
  {
   "cell_type": "markdown",
   "metadata": {},
   "source": [
    "# Data preprocessing:"
   ]
  },
  {
   "cell_type": "markdown",
   "metadata": {},
   "source": [
    "We convert the NaN values of 'Cited by' to 0, and choose the Authors, Year, no. of citations, and authors with affiliations columns necessary for our further analysis."
   ]
  },
  {
   "cell_type": "code",
   "execution_count": 8,
   "metadata": {},
   "outputs": [],
   "source": [
    "df['Cited by'] = df['Cited by'].fillna(0)"
   ]
  },
  {
   "cell_type": "code",
   "execution_count": 9,
   "metadata": {},
   "outputs": [],
   "source": [
    "df1 = df[['Authors', 'Year', 'Cited by', 'Authors with affiliations']]"
   ]
  },
  {
   "cell_type": "code",
   "execution_count": 10,
   "metadata": {
    "scrolled": true
   },
   "outputs": [
    {
     "data": {
      "text/html": [
       "<div>\n",
       "<style scoped>\n",
       "    .dataframe tbody tr th:only-of-type {\n",
       "        vertical-align: middle;\n",
       "    }\n",
       "\n",
       "    .dataframe tbody tr th {\n",
       "        vertical-align: top;\n",
       "    }\n",
       "\n",
       "    .dataframe thead th {\n",
       "        text-align: right;\n",
       "    }\n",
       "</style>\n",
       "<table border=\"1\" class=\"dataframe\">\n",
       "  <thead>\n",
       "    <tr style=\"text-align: right;\">\n",
       "      <th></th>\n",
       "      <th>Authors</th>\n",
       "      <th>Year</th>\n",
       "      <th>Cited by</th>\n",
       "      <th>Authors with affiliations</th>\n",
       "    </tr>\n",
       "  </thead>\n",
       "  <tbody>\n",
       "    <tr>\n",
       "      <th>0</th>\n",
       "      <td>Nunes P.F., Ostan I., Siqueira A.A.G.</td>\n",
       "      <td>2020</td>\n",
       "      <td>0.0</td>\n",
       "      <td>Nunes, P.F., Rehabilitation Robotics Laborator...</td>\n",
       "    </tr>\n",
       "    <tr>\n",
       "      <th>1</th>\n",
       "      <td>Zhang Z., Liao J., Zhao J., Wang L.</td>\n",
       "      <td>2020</td>\n",
       "      <td>0.0</td>\n",
       "      <td>Zhang, Z., Faculty of Materials and Manufactur...</td>\n",
       "    </tr>\n",
       "    <tr>\n",
       "      <th>2</th>\n",
       "      <td>Bonzon P.</td>\n",
       "      <td>2020</td>\n",
       "      <td>0.0</td>\n",
       "      <td>Bonzon, P., Department of Information Systems,...</td>\n",
       "    </tr>\n",
       "    <tr>\n",
       "      <th>3</th>\n",
       "      <td>Melchiorre L., Marasco I., Niro G., Basile V.,...</td>\n",
       "      <td>2020</td>\n",
       "      <td>0.0</td>\n",
       "      <td>Melchiorre, L., Politecnico di Bari, Dipartime...</td>\n",
       "    </tr>\n",
       "    <tr>\n",
       "      <th>4</th>\n",
       "      <td>Peyrottes A., Coquant G., Brot L., Rainteau D....</td>\n",
       "      <td>2020</td>\n",
       "      <td>0.0</td>\n",
       "      <td>Peyrottes, A., Laboratoire des Biomolécules(LB...</td>\n",
       "    </tr>\n",
       "  </tbody>\n",
       "</table>\n",
       "</div>"
      ],
      "text/plain": [
       "                                             Authors  Year  Cited by  \\\n",
       "0              Nunes P.F., Ostan I., Siqueira A.A.G.  2020       0.0   \n",
       "1                Zhang Z., Liao J., Zhao J., Wang L.  2020       0.0   \n",
       "2                                          Bonzon P.  2020       0.0   \n",
       "3  Melchiorre L., Marasco I., Niro G., Basile V.,...  2020       0.0   \n",
       "4  Peyrottes A., Coquant G., Brot L., Rainteau D....  2020       0.0   \n",
       "\n",
       "                           Authors with affiliations  \n",
       "0  Nunes, P.F., Rehabilitation Robotics Laborator...  \n",
       "1  Zhang, Z., Faculty of Materials and Manufactur...  \n",
       "2  Bonzon, P., Department of Information Systems,...  \n",
       "3  Melchiorre, L., Politecnico di Bari, Dipartime...  \n",
       "4  Peyrottes, A., Laboratoire des Biomolécules(LB...  "
      ]
     },
     "execution_count": 10,
     "metadata": {},
     "output_type": "execute_result"
    }
   ],
   "source": [
    "df1.head()"
   ]
  },
  {
   "cell_type": "code",
   "execution_count": 11,
   "metadata": {},
   "outputs": [
    {
     "data": {
      "text/plain": [
       "'Nunes, P.F., Rehabilitation Robotics Laboratory, Department of Mechanical Engineering, São Carlos School of Engineering, University of São Paulo, São Carlos, Brazil; Ostan, I., Rehabilitation Robotics Laboratory, Department of Mechanical Engineering, São Carlos School of Engineering, University of São Paulo, São Carlos, Brazil; Siqueira, A.A.G., Rehabilitation Robotics Laboratory, Department of Mechanical Engineering, São Carlos School of Engineering, University of São Paulo, São Carlos, Brazil'"
      ]
     },
     "execution_count": 11,
     "metadata": {},
     "output_type": "execute_result"
    }
   ],
   "source": [
    "df.loc[0,'Authors with affiliations']"
   ]
  },
  {
   "cell_type": "code",
   "execution_count": 12,
   "metadata": {},
   "outputs": [
    {
     "data": {
      "text/plain": [
       "'Nunes P.F., Ostan I., Siqueira A.A.G.'"
      ]
     },
     "execution_count": 12,
     "metadata": {},
     "output_type": "execute_result"
    }
   ],
   "source": [
    "df.loc[0,'Authors']"
   ]
  },
  {
   "cell_type": "markdown",
   "metadata": {},
   "source": [
    "We see that, there are multiple authors contributing to a particular article.\n",
    "And their countries can be obtained from their affiliations. \n",
    "So, we create a new dataframe consisting of the respective information."
   ]
  },
  {
   "cell_type": "code",
   "execution_count": 13,
   "metadata": {},
   "outputs": [],
   "source": [
    "Authors =[]\n",
    "Year = []\n",
    "CitedBy = []\n",
    "Country = []\n",
    "for i in range(df1.shape[0]):\n",
    "    a = df1['Authors'][i].split(',')\n",
    "    b = df1['Authors with affiliations'][i].split(';')\n",
    "    if len(a) == len(b):\n",
    "        for auth in a:\n",
    "            if(auth[0] != ' '):\n",
    "                Authors.append(auth)\n",
    "            else:\n",
    "                Authors.append(auth[1:])\n",
    "            CitedBy.append(df1['Cited by'][i])\n",
    "            Year.append((df1['Year'][i]))\n",
    "        for strings in b:\n",
    "            Country.append(strings.split(',')[-1][1:])"
   ]
  },
  {
   "cell_type": "code",
   "execution_count": 14,
   "metadata": {},
   "outputs": [],
   "source": [
    "df2 = pd.DataFrame(list(zip(Authors, Year, CitedBy, Country)),columns = ['Authors', 'Year', 'Cited by', 'Country']) "
   ]
  },
  {
   "cell_type": "code",
   "execution_count": 15,
   "metadata": {},
   "outputs": [
    {
     "data": {
      "text/plain": [
       "(5530, 4)"
      ]
     },
     "execution_count": 15,
     "metadata": {},
     "output_type": "execute_result"
    }
   ],
   "source": [
    "df2.shape"
   ]
  },
  {
   "cell_type": "code",
   "execution_count": 16,
   "metadata": {},
   "outputs": [
    {
     "data": {
      "text/html": [
       "<div>\n",
       "<style scoped>\n",
       "    .dataframe tbody tr th:only-of-type {\n",
       "        vertical-align: middle;\n",
       "    }\n",
       "\n",
       "    .dataframe tbody tr th {\n",
       "        vertical-align: top;\n",
       "    }\n",
       "\n",
       "    .dataframe thead th {\n",
       "        text-align: right;\n",
       "    }\n",
       "</style>\n",
       "<table border=\"1\" class=\"dataframe\">\n",
       "  <thead>\n",
       "    <tr style=\"text-align: right;\">\n",
       "      <th></th>\n",
       "      <th>Authors</th>\n",
       "      <th>Year</th>\n",
       "      <th>Cited by</th>\n",
       "      <th>Country</th>\n",
       "    </tr>\n",
       "  </thead>\n",
       "  <tbody>\n",
       "    <tr>\n",
       "      <th>0</th>\n",
       "      <td>Nunes P.F.</td>\n",
       "      <td>2020</td>\n",
       "      <td>0.0</td>\n",
       "      <td>Brazil</td>\n",
       "    </tr>\n",
       "    <tr>\n",
       "      <th>1</th>\n",
       "      <td>Ostan I.</td>\n",
       "      <td>2020</td>\n",
       "      <td>0.0</td>\n",
       "      <td>Brazil</td>\n",
       "    </tr>\n",
       "    <tr>\n",
       "      <th>2</th>\n",
       "      <td>Siqueira A.A.G.</td>\n",
       "      <td>2020</td>\n",
       "      <td>0.0</td>\n",
       "      <td>Brazil</td>\n",
       "    </tr>\n",
       "    <tr>\n",
       "      <th>3</th>\n",
       "      <td>Zhang Z.</td>\n",
       "      <td>2020</td>\n",
       "      <td>0.0</td>\n",
       "      <td>China</td>\n",
       "    </tr>\n",
       "    <tr>\n",
       "      <th>4</th>\n",
       "      <td>Liao J.</td>\n",
       "      <td>2020</td>\n",
       "      <td>0.0</td>\n",
       "      <td>China</td>\n",
       "    </tr>\n",
       "  </tbody>\n",
       "</table>\n",
       "</div>"
      ],
      "text/plain": [
       "           Authors  Year  Cited by Country\n",
       "0       Nunes P.F.  2020       0.0  Brazil\n",
       "1         Ostan I.  2020       0.0  Brazil\n",
       "2  Siqueira A.A.G.  2020       0.0  Brazil\n",
       "3         Zhang Z.  2020       0.0   China\n",
       "4          Liao J.  2020       0.0   China"
      ]
     },
     "execution_count": 16,
     "metadata": {},
     "output_type": "execute_result"
    }
   ],
   "source": [
    "df2.head()"
   ]
  },
  {
   "cell_type": "markdown",
   "metadata": {},
   "source": [
    "# Data Analysis:"
   ]
  },
  {
   "cell_type": "markdown",
   "metadata": {},
   "source": [
    "## a) Highest cited author and his h-index (from the world)"
   ]
  },
  {
   "cell_type": "markdown",
   "metadata": {},
   "source": [
    "For finding this we’ve used following code:"
   ]
  },
  {
   "cell_type": "code",
   "execution_count": 17,
   "metadata": {},
   "outputs": [
    {
     "data": {
      "text/plain": [
       "3965    1098.0\n",
       "3962    1098.0\n",
       "3967    1098.0\n",
       "3966    1098.0\n",
       "3963    1098.0\n",
       "3964    1098.0\n",
       "5352     475.0\n",
       "5353     475.0\n",
       "5354     475.0\n",
       "3968     223.0\n",
       "3969     223.0\n",
       "5431     204.0\n",
       "5432     204.0\n",
       "5433     204.0\n",
       "3365     192.0\n",
       "Name: Cited by, dtype: float64"
      ]
     },
     "execution_count": 17,
     "metadata": {},
     "output_type": "execute_result"
    }
   ],
   "source": [
    "df2['Cited by'].sort_values(ascending=False).head(15)"
   ]
  },
  {
   "cell_type": "code",
   "execution_count": 18,
   "metadata": {},
   "outputs": [
    {
     "name": "stdout",
     "output_type": "stream",
     "text": [
      "Max Cited Authors:\n",
      "['Emary E.', 'Zawbaa H.M.', 'Hassanien A.E.']\n"
     ]
    }
   ],
   "source": [
    "#maxcite = df2['Cited by'].max()\n",
    "highestCitedAuthors = list(df2[df2['Cited by']==475]['Authors'])\n",
    "print(\"Max Cited Authors:\")\n",
    "print(highestCitedAuthors)"
   ]
  },
  {
   "cell_type": "markdown",
   "metadata": {},
   "source": [
    "Now, we are finding the h-index of the respective authors "
   ]
  },
  {
   "cell_type": "code",
   "execution_count": 19,
   "metadata": {
    "scrolled": true
   },
   "outputs": [
    {
     "name": "stdout",
     "output_type": "stream",
     "text": [
      "   index   Authors  Cited by\n",
      "0   5352  Emary E.     475.0\n",
      "1   4829  Emary E.     167.0\n",
      "2   3003  Emary E.      47.0\n",
      "3   1763  Emary E.      18.0\n",
      "4   4162  Emary E.      15.0\n",
      "   index      Authors  Cited by\n",
      "0   5353  Zawbaa H.M.     475.0\n",
      "1   4830  Zawbaa H.M.     167.0\n",
      "2   3002  Zawbaa H.M.      47.0\n",
      "3   1764  Zawbaa H.M.      18.0\n",
      "4   4163  Zawbaa H.M.      15.0\n",
      "   index         Authors  Cited by\n",
      "0   5354  Hassanien A.E.     475.0\n",
      "1   4831  Hassanien A.E.     167.0\n",
      "2   2301  Hassanien A.E.      56.0\n",
      "3   2803  Hassanien A.E.      47.0\n",
      "4   4164  Hassanien A.E.      15.0\n",
      "5   2021  Hassanien A.E.       5.0\n",
      "6   2995  Hassanien A.E.       2.0\n",
      "7   5079  Hassanien A.E.       2.0\n"
     ]
    }
   ],
   "source": [
    "for i in highestCitedAuthors:\n",
    "    print(df2[(df2['Authors']==i)][['Authors','Cited by']].sort_values(by=['Cited by'],ascending=False).reset_index())"
   ]
  },
  {
   "cell_type": "markdown",
   "metadata": {},
   "source": [
    "The h-index is defined as the maximum value of h such that the given author/journal has published at least h papers that have each been cited at least h times"
   ]
  },
  {
   "cell_type": "markdown",
   "metadata": {},
   "source": [
    "h-index of Emary E. is 5"
   ]
  },
  {
   "cell_type": "markdown",
   "metadata": {},
   "source": [
    "h-index of Zawbaa H.M. is 5"
   ]
  },
  {
   "cell_type": "markdown",
   "metadata": {},
   "source": [
    "h-index of Hassanien A.E is 5"
   ]
  },
  {
   "cell_type": "markdown",
   "metadata": {},
   "source": [
    "## b) Highest publication author"
   ]
  },
  {
   "cell_type": "markdown",
   "metadata": {},
   "source": [
    "For finding this we’ve used following code:"
   ]
  },
  {
   "cell_type": "code",
   "execution_count": 20,
   "metadata": {},
   "outputs": [
    {
     "data": {
      "text/plain": [
       "Wang Y.     28\n",
       "Zhang Z.    26\n",
       "Pan L.      25\n",
       "Wu T.       17\n",
       "Wang X.     17\n",
       "Name: Authors, dtype: int64"
      ]
     },
     "execution_count": 20,
     "metadata": {},
     "output_type": "execute_result"
    }
   ],
   "source": [
    "df2['Authors'].value_counts().head()"
   ]
  },
  {
   "cell_type": "markdown",
   "metadata": {},
   "source": [
    "### Wang Y is the author with highest number of publications. He has published 23 articles during the given time."
   ]
  },
  {
   "cell_type": "markdown",
   "metadata": {},
   "source": [
    "## c) Highest cited authors avg. citations, and the country name."
   ]
  },
  {
   "cell_type": "markdown",
   "metadata": {},
   "source": [
    "We already found highest cited authors in first question. Now we can simply make use of our dataset dictionary to find out their average citations and the countries which they belong to."
   ]
  },
  {
   "cell_type": "code",
   "execution_count": 21,
   "metadata": {},
   "outputs": [
    {
     "data": {
      "text/html": [
       "<div>\n",
       "<style scoped>\n",
       "    .dataframe tbody tr th:only-of-type {\n",
       "        vertical-align: middle;\n",
       "    }\n",
       "\n",
       "    .dataframe tbody tr th {\n",
       "        vertical-align: top;\n",
       "    }\n",
       "\n",
       "    .dataframe thead th {\n",
       "        text-align: right;\n",
       "    }\n",
       "</style>\n",
       "<table border=\"1\" class=\"dataframe\">\n",
       "  <thead>\n",
       "    <tr style=\"text-align: right;\">\n",
       "      <th></th>\n",
       "      <th>Authors</th>\n",
       "      <th>Year</th>\n",
       "      <th>Cited by</th>\n",
       "      <th>Country</th>\n",
       "    </tr>\n",
       "  </thead>\n",
       "  <tbody>\n",
       "    <tr>\n",
       "      <th>3965</th>\n",
       "      <td>Saremi S.</td>\n",
       "      <td>2017</td>\n",
       "      <td>1098.0</td>\n",
       "      <td>Australia</td>\n",
       "    </tr>\n",
       "    <tr>\n",
       "      <th>3962</th>\n",
       "      <td>Mirjalili S.</td>\n",
       "      <td>2017</td>\n",
       "      <td>1098.0</td>\n",
       "      <td>Australia</td>\n",
       "    </tr>\n",
       "    <tr>\n",
       "      <th>3967</th>\n",
       "      <td>Mirjalili S.M.</td>\n",
       "      <td>2017</td>\n",
       "      <td>1098.0</td>\n",
       "      <td>Canada</td>\n",
       "    </tr>\n",
       "    <tr>\n",
       "      <th>3966</th>\n",
       "      <td>Faris H.</td>\n",
       "      <td>2017</td>\n",
       "      <td>1098.0</td>\n",
       "      <td>Jordan</td>\n",
       "    </tr>\n",
       "    <tr>\n",
       "      <th>3963</th>\n",
       "      <td>Gandomi A.H.</td>\n",
       "      <td>2017</td>\n",
       "      <td>1098.0</td>\n",
       "      <td>United States</td>\n",
       "    </tr>\n",
       "    <tr>\n",
       "      <th>3964</th>\n",
       "      <td>Mirjalili S.Z.</td>\n",
       "      <td>2017</td>\n",
       "      <td>1098.0</td>\n",
       "      <td>Australia</td>\n",
       "    </tr>\n",
       "    <tr>\n",
       "      <th>5352</th>\n",
       "      <td>Emary E.</td>\n",
       "      <td>2016</td>\n",
       "      <td>475.0</td>\n",
       "      <td>Egypt</td>\n",
       "    </tr>\n",
       "    <tr>\n",
       "      <th>5353</th>\n",
       "      <td>Zawbaa H.M.</td>\n",
       "      <td>2016</td>\n",
       "      <td>475.0</td>\n",
       "      <td>Egypt</td>\n",
       "    </tr>\n",
       "    <tr>\n",
       "      <th>5354</th>\n",
       "      <td>Hassanien A.E.</td>\n",
       "      <td>2016</td>\n",
       "      <td>475.0</td>\n",
       "      <td>Egypt</td>\n",
       "    </tr>\n",
       "    <tr>\n",
       "      <th>3968</th>\n",
       "      <td>Dhiman G.</td>\n",
       "      <td>2017</td>\n",
       "      <td>223.0</td>\n",
       "      <td>India</td>\n",
       "    </tr>\n",
       "  </tbody>\n",
       "</table>\n",
       "</div>"
      ],
      "text/plain": [
       "             Authors  Year  Cited by        Country\n",
       "3965       Saremi S.  2017    1098.0      Australia\n",
       "3962    Mirjalili S.  2017    1098.0      Australia\n",
       "3967  Mirjalili S.M.  2017    1098.0         Canada\n",
       "3966        Faris H.  2017    1098.0         Jordan\n",
       "3963    Gandomi A.H.  2017    1098.0  United States\n",
       "3964  Mirjalili S.Z.  2017    1098.0      Australia\n",
       "5352        Emary E.  2016     475.0          Egypt\n",
       "5353     Zawbaa H.M.  2016     475.0          Egypt\n",
       "5354  Hassanien A.E.  2016     475.0          Egypt\n",
       "3968       Dhiman G.  2017     223.0          India"
      ]
     },
     "execution_count": 21,
     "metadata": {},
     "output_type": "execute_result"
    }
   ],
   "source": [
    "df2.sort_values('Cited by', ascending=False).head(10)"
   ]
  },
  {
   "cell_type": "code",
   "execution_count": 22,
   "metadata": {
    "scrolled": true
   },
   "outputs": [
    {
     "data": {
      "text/plain": [
       "['Emary E.', 'Zawbaa H.M.', 'Hassanien A.E.']"
      ]
     },
     "execution_count": 22,
     "metadata": {},
     "output_type": "execute_result"
    }
   ],
   "source": [
    "highestCitedAuthors"
   ]
  },
  {
   "cell_type": "markdown",
   "metadata": {},
   "source": [
    "Finding average citations of Authors: "
   ]
  },
  {
   "cell_type": "code",
   "execution_count": 36,
   "metadata": {},
   "outputs": [
    {
     "name": "stdout",
     "output_type": "stream",
     "text": [
      "Emary E. 144.4\n",
      "Zawbaa H.M. 144.4\n",
      "Hassanien A.E. 96.125\n"
     ]
    }
   ],
   "source": [
    "for i in highestCitedAuthors:\n",
    "    print(i, df2.groupby('Authors')['Cited by'].mean()[i])"
   ]
  },
  {
   "cell_type": "markdown",
   "metadata": {},
   "source": [
    "Finding Country name of Authors:"
   ]
  },
  {
   "cell_type": "code",
   "execution_count": 38,
   "metadata": {
    "scrolled": false
   },
   "outputs": [
    {
     "name": "stdout",
     "output_type": "stream",
     "text": [
      "       Authors Country\n",
      "1763  Emary E.   Egypt\n",
      "          Authors Country\n",
      "1764  Zawbaa H.M.   Egypt\n",
      "             Authors Country\n",
      "2021  Hassanien A.E.   Egypt\n"
     ]
    }
   ],
   "source": [
    "for i in highestCitedAuthors:\n",
    "    print(df2[df2['Authors']==i][['Authors','Country']][:1])"
   ]
  },
  {
   "cell_type": "markdown",
   "metadata": {},
   "source": [
    "## d) Total number of publications of the highest cited author"
   ]
  },
  {
   "cell_type": "code",
   "execution_count": 51,
   "metadata": {},
   "outputs": [
    {
     "name": "stdout",
     "output_type": "stream",
     "text": [
      "Emary E.    5\n",
      "Name: Authors, dtype: int64\n",
      "Zawbaa H.M.    5\n",
      "Name: Authors, dtype: int64\n",
      "Hassanien A.E.    8\n",
      "Name: Authors, dtype: int64\n"
     ]
    }
   ],
   "source": [
    "for i in highestCitedAuthors:\n",
    "    print(df2['Authors'].value_counts()[df2['Authors'].value_counts().index==i])"
   ]
  },
  {
   "cell_type": "markdown",
   "metadata": {},
   "source": [
    "## e) Total publication in year"
   ]
  },
  {
   "cell_type": "markdown",
   "metadata": {},
   "source": [
    "Our database contains information from 2016 to 2020. The total year-wise publication can be found using following code."
   ]
  },
  {
   "cell_type": "code",
   "execution_count": 52,
   "metadata": {},
   "outputs": [
    {
     "data": {
      "text/plain": [
       "2019    383\n",
       "2020    362\n",
       "2018    303\n",
       "2017    241\n",
       "2016    215\n",
       "Name: Year, dtype: int64"
      ]
     },
     "execution_count": 52,
     "metadata": {},
     "output_type": "execute_result"
    }
   ],
   "source": [
    "df1['Year'].value_counts()"
   ]
  },
  {
   "cell_type": "markdown",
   "metadata": {},
   "source": [
    "## f) Total citation per year"
   ]
  },
  {
   "cell_type": "markdown",
   "metadata": {},
   "source": [
    "We can find the total citation per year by using Dataset and apply following code:"
   ]
  },
  {
   "cell_type": "code",
   "execution_count": 53,
   "metadata": {},
   "outputs": [
    {
     "data": {
      "text/plain": [
       "Year\n",
       "2016    4359.0\n",
       "2017    4637.0\n",
       "2018    4242.0\n",
       "2019    2845.0\n",
       "2020    1190.0\n",
       "Name: Cited by, dtype: float64"
      ]
     },
     "execution_count": 53,
     "metadata": {},
     "output_type": "execute_result"
    }
   ],
   "source": [
    "df1.groupby('Year')['Cited by'].sum()"
   ]
  },
  {
   "cell_type": "markdown",
   "metadata": {},
   "source": [
    "## g) Author(country) having highest co-authorship with indian authors."
   ]
  },
  {
   "cell_type": "markdown",
   "metadata": {},
   "source": [
    "a) Finding the List of indian Authors:"
   ]
  },
  {
   "cell_type": "code",
   "execution_count": 55,
   "metadata": {},
   "outputs": [
    {
     "name": "stdout",
     "output_type": "stream",
     "text": [
      "710\n"
     ]
    }
   ],
   "source": [
    "indAuthList=list(df2[(df2['Country']=='India')]['Authors'])\n",
    "print(len(indAuthList))"
   ]
  },
  {
   "cell_type": "markdown",
   "metadata": {},
   "source": [
    "b) Forming an unordered set of Indian Authors"
   ]
  },
  {
   "cell_type": "code",
   "execution_count": 58,
   "metadata": {},
   "outputs": [
    {
     "name": "stdout",
     "output_type": "stream",
     "text": [
      "Indian Authors: \n"
     ]
    },
    {
     "data": {
      "text/plain": [
       "['Yadav A.',\n",
       " 'Vishwakarma D.K.',\n",
       " 'Rawat P.S.',\n",
       " 'Gupta P.',\n",
       " 'Dimri P.',\n",
       " 'Saroha G.P.',\n",
       " 'Sreejith S.',\n",
       " 'Khanna Nehemiah H.',\n",
       " 'Kannan A.',\n",
       " 'Husain A.']"
      ]
     },
     "execution_count": 58,
     "metadata": {},
     "output_type": "execute_result"
    }
   ],
   "source": [
    "ind_auth_new=[]\n",
    "\n",
    "for i in indAuthList:\n",
    "    ind_auth_new.append(i)\n",
    "\n",
    "\n",
    "print(\"Indian Authors: \")\n",
    "set(ind_auth_new)\n",
    "ind_auth_new[:10]"
   ]
  },
  {
   "cell_type": "markdown",
   "metadata": {},
   "source": [
    "c) Finding highest co-authorship with Indian authors:\n",
    "We form a list of all authors having co-authorship with Indian authors. \n",
    "Then, we perform a Counter() operation to find out the number of times each author is appearing in the list.\n",
    "Finally we find out the author having the highest frequency."
   ]
  },
  {
   "cell_type": "code",
   "execution_count": 60,
   "metadata": {},
   "outputs": [
    {
     "data": {
      "text/plain": [
       "(1504, 4)"
      ]
     },
     "execution_count": 60,
     "metadata": {},
     "output_type": "execute_result"
    }
   ],
   "source": [
    "df1.shape"
   ]
  },
  {
   "cell_type": "code",
   "execution_count": 62,
   "metadata": {},
   "outputs": [
    {
     "name": "stdout",
     "output_type": "stream",
     "text": [
      " Wang Y.\n",
      "23\n"
     ]
    }
   ],
   "source": [
    "import collections\n",
    "co_authors=[]\n",
    "for i in range(df1.shape[0]):\n",
    "    authorlist=df1['Authors'][i].split(',')\n",
    "\n",
    "    for author in authorlist:\n",
    "        if author in ind_auth_new:\n",
    "            continue\n",
    "        else:\n",
    "            co_authors.append(author)\n",
    "freq=collections.Counter(co_authors)\n",
    "for i in freq.items():\n",
    "    if i[1]==max(freq.values()):\n",
    "        print(i[0])\n",
    "        print(i[1])"
   ]
  },
  {
   "cell_type": "markdown",
   "metadata": {},
   "source": [
    "d) Country Name of highest co-authorship with Indian authors"
   ]
  },
  {
   "cell_type": "code",
   "execution_count": 63,
   "metadata": {},
   "outputs": [
    {
     "data": {
      "text/plain": [
       "'China'"
      ]
     },
     "execution_count": 63,
     "metadata": {},
     "output_type": "execute_result"
    }
   ],
   "source": [
    "df2[df2['Authors']=='Wang Y.'].iloc[0,3]"
   ]
  },
  {
   "cell_type": "markdown",
   "metadata": {},
   "source": [
    "#### Wang Y. from China has the highest co-authorship with Indian authors. He has collaborated with 23 Indian authors."
   ]
  },
  {
   "cell_type": "markdown",
   "metadata": {},
   "source": [
    "## h) Highest cited author from India and the university."
   ]
  },
  {
   "cell_type": "markdown",
   "metadata": {},
   "source": [
    "For this we make a new data frame for Indian authors list. Its code goes as below,"
   ]
  },
  {
   "cell_type": "code",
   "execution_count": 66,
   "metadata": {},
   "outputs": [],
   "source": [
    "df4 = df2[(df2['Country']=='India')]"
   ]
  },
  {
   "cell_type": "markdown",
   "metadata": {},
   "source": [
    "Now we find highest cited Authors from India: "
   ]
  },
  {
   "cell_type": "code",
   "execution_count": 67,
   "metadata": {},
   "outputs": [
    {
     "data": {
      "text/plain": [
       "['Dhiman G.', 'Kumar V.']"
      ]
     },
     "execution_count": 67,
     "metadata": {},
     "output_type": "execute_result"
    }
   ],
   "source": [
    "maxciteInd = df4['Cited by'].max()\n",
    "highestCitedAuthorsInd = list(df4[df4['Cited by']==maxciteInd]['Authors'])\n",
    "highestCitedAuthorsInd"
   ]
  },
  {
   "cell_type": "markdown",
   "metadata": {},
   "source": [
    "We find the name of the University of highest cited Authors from india:"
   ]
  },
  {
   "cell_type": "code",
   "execution_count": 68,
   "metadata": {
    "scrolled": false
   },
   "outputs": [
    {
     "name": "stdout",
     "output_type": "stream",
     "text": [
      "Dhiman, G., Computer Science and Engineering Department, Thapar Institute of Engineering & Technology, Patiala, Punjab  147004, India; Kumar, V., Computer Science and Engineering Department, Thapar Institute of Engineering & Technology, Patiala, Punjab  147004, India\n"
     ]
    }
   ],
   "source": [
    "for i in range(df1.shape[0]):\n",
    "    if df1['Authors'][i].find('Dhiman G., Kumar V.') > -1:\n",
    "        print(df1.iloc[i][3])\n",
    "        break"
   ]
  },
  {
   "cell_type": "markdown",
   "metadata": {},
   "source": [
    "#### Highest cited author from India\n",
    "\n",
    "Dhiman G. \n",
    "Computer Science and Engineering Department, \n",
    "Thapar Institute of Engineering & Technology, \n",
    "Patiala, Punjab  \n",
    "147004, India \n",
    "\n",
    "Kumar V. \n",
    "Computer Science and Engineering Department, \n",
    "Thapar Institute of Engineering & Technology, \n",
    "Patiala, Punjab  \n",
    "147004, India"
   ]
  },
  {
   "cell_type": "markdown",
   "metadata": {},
   "source": [
    "## i) Comparative year wise article publication analysis of India, USA and  China."
   ]
  },
  {
   "cell_type": "code",
   "execution_count": 69,
   "metadata": {
    "scrolled": false
   },
   "outputs": [
    {
     "data": {
      "text/html": [
       "<div>\n",
       "<style scoped>\n",
       "    .dataframe tbody tr th:only-of-type {\n",
       "        vertical-align: middle;\n",
       "    }\n",
       "\n",
       "    .dataframe tbody tr th {\n",
       "        vertical-align: top;\n",
       "    }\n",
       "\n",
       "    .dataframe thead th {\n",
       "        text-align: right;\n",
       "    }\n",
       "</style>\n",
       "<table border=\"1\" class=\"dataframe\">\n",
       "  <thead>\n",
       "    <tr style=\"text-align: right;\">\n",
       "      <th></th>\n",
       "      <th>Authors</th>\n",
       "      <th>Year</th>\n",
       "      <th>Cited by</th>\n",
       "      <th>Authors with affiliations</th>\n",
       "    </tr>\n",
       "  </thead>\n",
       "  <tbody>\n",
       "    <tr>\n",
       "      <th>0</th>\n",
       "      <td>Nunes P.F., Ostan I., Siqueira A.A.G.</td>\n",
       "      <td>2020</td>\n",
       "      <td>0.0</td>\n",
       "      <td>Nunes, P.F., Rehabilitation Robotics Laborator...</td>\n",
       "    </tr>\n",
       "    <tr>\n",
       "      <th>1</th>\n",
       "      <td>Zhang Z., Liao J., Zhao J., Wang L.</td>\n",
       "      <td>2020</td>\n",
       "      <td>0.0</td>\n",
       "      <td>Zhang, Z., Faculty of Materials and Manufactur...</td>\n",
       "    </tr>\n",
       "    <tr>\n",
       "      <th>2</th>\n",
       "      <td>Bonzon P.</td>\n",
       "      <td>2020</td>\n",
       "      <td>0.0</td>\n",
       "      <td>Bonzon, P., Department of Information Systems,...</td>\n",
       "    </tr>\n",
       "    <tr>\n",
       "      <th>3</th>\n",
       "      <td>Melchiorre L., Marasco I., Niro G., Basile V.,...</td>\n",
       "      <td>2020</td>\n",
       "      <td>0.0</td>\n",
       "      <td>Melchiorre, L., Politecnico di Bari, Dipartime...</td>\n",
       "    </tr>\n",
       "    <tr>\n",
       "      <th>4</th>\n",
       "      <td>Peyrottes A., Coquant G., Brot L., Rainteau D....</td>\n",
       "      <td>2020</td>\n",
       "      <td>0.0</td>\n",
       "      <td>Peyrottes, A., Laboratoire des Biomolécules(LB...</td>\n",
       "    </tr>\n",
       "  </tbody>\n",
       "</table>\n",
       "</div>"
      ],
      "text/plain": [
       "                                             Authors  Year  Cited by  \\\n",
       "0              Nunes P.F., Ostan I., Siqueira A.A.G.  2020       0.0   \n",
       "1                Zhang Z., Liao J., Zhao J., Wang L.  2020       0.0   \n",
       "2                                          Bonzon P.  2020       0.0   \n",
       "3  Melchiorre L., Marasco I., Niro G., Basile V.,...  2020       0.0   \n",
       "4  Peyrottes A., Coquant G., Brot L., Rainteau D....  2020       0.0   \n",
       "\n",
       "                           Authors with affiliations  \n",
       "0  Nunes, P.F., Rehabilitation Robotics Laborator...  \n",
       "1  Zhang, Z., Faculty of Materials and Manufactur...  \n",
       "2  Bonzon, P., Department of Information Systems,...  \n",
       "3  Melchiorre, L., Politecnico di Bari, Dipartime...  \n",
       "4  Peyrottes, A., Laboratoire des Biomolécules(LB...  "
      ]
     },
     "execution_count": 69,
     "metadata": {},
     "output_type": "execute_result"
    }
   ],
   "source": [
    "df1.head()"
   ]
  },
  {
   "cell_type": "markdown",
   "metadata": {},
   "source": [
    "#### We create a separate column for the country and extract the data from the  'Authors with affiliations' column to fill the values."
   ]
  },
  {
   "cell_type": "code",
   "execution_count": 74,
   "metadata": {},
   "outputs": [],
   "source": [
    "Count=[]\n",
    "Country = []\n",
    "for i in range(df1.shape[0]):\n",
    "    b = df1['Authors with affiliations'][i].split(',')\n",
    "    Country.append(b[-1][1:])\n",
    "    Count.append(1)"
   ]
  },
  {
   "cell_type": "markdown",
   "metadata": {},
   "source": [
    "Adding Country and Count column in our data frame:"
   ]
  },
  {
   "cell_type": "code",
   "execution_count": 75,
   "metadata": {},
   "outputs": [
    {
     "name": "stderr",
     "output_type": "stream",
     "text": [
      "C:\\Users\\santr\\AppData\\Local\\Temp\\ipykernel_20088\\3830705747.py:1: SettingWithCopyWarning: \n",
      "A value is trying to be set on a copy of a slice from a DataFrame.\n",
      "Try using .loc[row_indexer,col_indexer] = value instead\n",
      "\n",
      "See the caveats in the documentation: https://pandas.pydata.org/pandas-docs/stable/user_guide/indexing.html#returning-a-view-versus-a-copy\n",
      "  df1['Country'] = Country\n",
      "C:\\Users\\santr\\AppData\\Local\\Temp\\ipykernel_20088\\3830705747.py:2: SettingWithCopyWarning: \n",
      "A value is trying to be set on a copy of a slice from a DataFrame.\n",
      "Try using .loc[row_indexer,col_indexer] = value instead\n",
      "\n",
      "See the caveats in the documentation: https://pandas.pydata.org/pandas-docs/stable/user_guide/indexing.html#returning-a-view-versus-a-copy\n",
      "  df1['Count'] = Count\n"
     ]
    }
   ],
   "source": [
    "df1['Country'] = Country\n",
    "df1['Count'] = Count"
   ]
  },
  {
   "cell_type": "code",
   "execution_count": 76,
   "metadata": {},
   "outputs": [
    {
     "data": {
      "text/html": [
       "<div>\n",
       "<style scoped>\n",
       "    .dataframe tbody tr th:only-of-type {\n",
       "        vertical-align: middle;\n",
       "    }\n",
       "\n",
       "    .dataframe tbody tr th {\n",
       "        vertical-align: top;\n",
       "    }\n",
       "\n",
       "    .dataframe thead th {\n",
       "        text-align: right;\n",
       "    }\n",
       "</style>\n",
       "<table border=\"1\" class=\"dataframe\">\n",
       "  <thead>\n",
       "    <tr style=\"text-align: right;\">\n",
       "      <th></th>\n",
       "      <th>Authors</th>\n",
       "      <th>Year</th>\n",
       "      <th>Cited by</th>\n",
       "      <th>Authors with affiliations</th>\n",
       "      <th>Country</th>\n",
       "      <th>Count</th>\n",
       "    </tr>\n",
       "  </thead>\n",
       "  <tbody>\n",
       "    <tr>\n",
       "      <th>0</th>\n",
       "      <td>Nunes P.F., Ostan I., Siqueira A.A.G.</td>\n",
       "      <td>2020</td>\n",
       "      <td>0.0</td>\n",
       "      <td>Nunes, P.F., Rehabilitation Robotics Laborator...</td>\n",
       "      <td>Brazil</td>\n",
       "      <td>1</td>\n",
       "    </tr>\n",
       "    <tr>\n",
       "      <th>1</th>\n",
       "      <td>Zhang Z., Liao J., Zhao J., Wang L.</td>\n",
       "      <td>2020</td>\n",
       "      <td>0.0</td>\n",
       "      <td>Zhang, Z., Faculty of Materials and Manufactur...</td>\n",
       "      <td>China</td>\n",
       "      <td>1</td>\n",
       "    </tr>\n",
       "    <tr>\n",
       "      <th>2</th>\n",
       "      <td>Bonzon P.</td>\n",
       "      <td>2020</td>\n",
       "      <td>0.0</td>\n",
       "      <td>Bonzon, P., Department of Information Systems,...</td>\n",
       "      <td>Switzerland</td>\n",
       "      <td>1</td>\n",
       "    </tr>\n",
       "    <tr>\n",
       "      <th>3</th>\n",
       "      <td>Melchiorre L., Marasco I., Niro G., Basile V.,...</td>\n",
       "      <td>2020</td>\n",
       "      <td>0.0</td>\n",
       "      <td>Melchiorre, L., Politecnico di Bari, Dipartime...</td>\n",
       "      <td>Italy</td>\n",
       "      <td>1</td>\n",
       "    </tr>\n",
       "    <tr>\n",
       "      <th>4</th>\n",
       "      <td>Peyrottes A., Coquant G., Brot L., Rainteau D....</td>\n",
       "      <td>2020</td>\n",
       "      <td>0.0</td>\n",
       "      <td>Peyrottes, A., Laboratoire des Biomolécules(LB...</td>\n",
       "      <td>France</td>\n",
       "      <td>1</td>\n",
       "    </tr>\n",
       "  </tbody>\n",
       "</table>\n",
       "</div>"
      ],
      "text/plain": [
       "                                             Authors  Year  Cited by  \\\n",
       "0              Nunes P.F., Ostan I., Siqueira A.A.G.  2020       0.0   \n",
       "1                Zhang Z., Liao J., Zhao J., Wang L.  2020       0.0   \n",
       "2                                          Bonzon P.  2020       0.0   \n",
       "3  Melchiorre L., Marasco I., Niro G., Basile V.,...  2020       0.0   \n",
       "4  Peyrottes A., Coquant G., Brot L., Rainteau D....  2020       0.0   \n",
       "\n",
       "                           Authors with affiliations      Country  Count  \n",
       "0  Nunes, P.F., Rehabilitation Robotics Laborator...       Brazil      1  \n",
       "1  Zhang, Z., Faculty of Materials and Manufactur...        China      1  \n",
       "2  Bonzon, P., Department of Information Systems,...  Switzerland      1  \n",
       "3  Melchiorre, L., Politecnico di Bari, Dipartime...        Italy      1  \n",
       "4  Peyrottes, A., Laboratoire des Biomolécules(LB...       France      1  "
      ]
     },
     "execution_count": 76,
     "metadata": {},
     "output_type": "execute_result"
    }
   ],
   "source": [
    "df1.head()"
   ]
  },
  {
   "cell_type": "markdown",
   "metadata": {},
   "source": [
    "Listing out all the countries:"
   ]
  },
  {
   "cell_type": "code",
   "execution_count": 77,
   "metadata": {},
   "outputs": [
    {
     "data": {
      "text/plain": [
       "array(['Brazil', 'China', 'Switzerland', 'Italy', 'France', 'India',\n",
       "       'Iran', 'Ecuador', 'Mexico', 'Pakistan', 'United Kingdom',\n",
       "       'Russian Federation', 'Taiwan', 'Spain', 'Czech Republic',\n",
       "       'Netherlands', 'Chile', 'United States', 'Turkey', 'Egypt',\n",
       "       'Japan', 'Iraq', 'Algeria', 'Canada', 'South Korea', 'Belgium',\n",
       "       'Israel', 'Germany', 'Norway', 'Australia', 'Thailand',\n",
       "       'Saudi Arabia', 'Greece', 'Singapore', 'Ireland', 'Colombia',\n",
       "       'Oman', 'Malaysia', 'Advanced Robotics Center', 'Georgia',\n",
       "       'Hong Kong', 'Venezuela', 'Viet Nam', 'Slovenia', 'Ghana',\n",
       "       'Austria', 'Morocco', 'Nigeria', 'Denmark', 'Lebanon', 'Jordan',\n",
       "       'New Zealand', 'Serbia', 'Portugal', 'V.', 'Croatia', 'Qatar',\n",
       "       'Tunisia', 'United Arab Emirates', 'Romania', 'Finland', 'Moldova',\n",
       "       'Argentina', 'Lithuania', 'Poland', 'Cuba', 'Kazakhstan',\n",
       "       \"Cote d'Ivoire\", 'Indonesia', 'U.', 'Sweden', 'South Africa',\n",
       "       'Kuwait', 'C.P.', 'L.', 'United States; IEEE Member', 'Slovakia',\n",
       "       'Estonia'], dtype=object)"
      ]
     },
     "execution_count": 77,
     "metadata": {},
     "output_type": "execute_result"
    }
   ],
   "source": [
    "df1['Country'].unique()"
   ]
  },
  {
   "cell_type": "code",
   "execution_count": 78,
   "metadata": {},
   "outputs": [],
   "source": [
    "dfcon=pd.DataFrame(df1.groupby(['Country','Year']).sum()['Count'])\n",
    "dfcon.reset_index(inplace=True)"
   ]
  },
  {
   "cell_type": "markdown",
   "metadata": {},
   "source": [
    "### No. of publications in India for the past 5 years"
   ]
  },
  {
   "cell_type": "code",
   "execution_count": 81,
   "metadata": {},
   "outputs": [
    {
     "data": {
      "text/html": [
       "<div>\n",
       "<style scoped>\n",
       "    .dataframe tbody tr th:only-of-type {\n",
       "        vertical-align: middle;\n",
       "    }\n",
       "\n",
       "    .dataframe tbody tr th {\n",
       "        vertical-align: top;\n",
       "    }\n",
       "\n",
       "    .dataframe thead th {\n",
       "        text-align: right;\n",
       "    }\n",
       "</style>\n",
       "<table border=\"1\" class=\"dataframe\">\n",
       "  <thead>\n",
       "    <tr style=\"text-align: right;\">\n",
       "      <th></th>\n",
       "      <th>Country</th>\n",
       "      <th>Year</th>\n",
       "      <th>Count</th>\n",
       "    </tr>\n",
       "  </thead>\n",
       "  <tbody>\n",
       "    <tr>\n",
       "      <th>89</th>\n",
       "      <td>India</td>\n",
       "      <td>2016</td>\n",
       "      <td>23</td>\n",
       "    </tr>\n",
       "    <tr>\n",
       "      <th>90</th>\n",
       "      <td>India</td>\n",
       "      <td>2017</td>\n",
       "      <td>33</td>\n",
       "    </tr>\n",
       "    <tr>\n",
       "      <th>91</th>\n",
       "      <td>India</td>\n",
       "      <td>2018</td>\n",
       "      <td>51</td>\n",
       "    </tr>\n",
       "    <tr>\n",
       "      <th>92</th>\n",
       "      <td>India</td>\n",
       "      <td>2019</td>\n",
       "      <td>72</td>\n",
       "    </tr>\n",
       "    <tr>\n",
       "      <th>93</th>\n",
       "      <td>India</td>\n",
       "      <td>2020</td>\n",
       "      <td>63</td>\n",
       "    </tr>\n",
       "  </tbody>\n",
       "</table>\n",
       "</div>"
      ],
      "text/plain": [
       "   Country  Year  Count\n",
       "89   India  2016     23\n",
       "90   India  2017     33\n",
       "91   India  2018     51\n",
       "92   India  2019     72\n",
       "93   India  2020     63"
      ]
     },
     "execution_count": 81,
     "metadata": {},
     "output_type": "execute_result"
    }
   ],
   "source": [
    "dfcon[(dfcon['Country']=='India')]"
   ]
  },
  {
   "cell_type": "markdown",
   "metadata": {},
   "source": [
    "### No. of publications in China for the past 5 years"
   ]
  },
  {
   "cell_type": "code",
   "execution_count": 82,
   "metadata": {},
   "outputs": [
    {
     "data": {
      "text/html": [
       "<div>\n",
       "<style scoped>\n",
       "    .dataframe tbody tr th:only-of-type {\n",
       "        vertical-align: middle;\n",
       "    }\n",
       "\n",
       "    .dataframe tbody tr th {\n",
       "        vertical-align: top;\n",
       "    }\n",
       "\n",
       "    .dataframe thead th {\n",
       "        text-align: right;\n",
       "    }\n",
       "</style>\n",
       "<table border=\"1\" class=\"dataframe\">\n",
       "  <thead>\n",
       "    <tr style=\"text-align: right;\">\n",
       "      <th></th>\n",
       "      <th>Country</th>\n",
       "      <th>Year</th>\n",
       "      <th>Count</th>\n",
       "    </tr>\n",
       "  </thead>\n",
       "  <tbody>\n",
       "    <tr>\n",
       "      <th>39</th>\n",
       "      <td>China</td>\n",
       "      <td>2016</td>\n",
       "      <td>42</td>\n",
       "    </tr>\n",
       "    <tr>\n",
       "      <th>40</th>\n",
       "      <td>China</td>\n",
       "      <td>2017</td>\n",
       "      <td>50</td>\n",
       "    </tr>\n",
       "    <tr>\n",
       "      <th>41</th>\n",
       "      <td>China</td>\n",
       "      <td>2018</td>\n",
       "      <td>48</td>\n",
       "    </tr>\n",
       "    <tr>\n",
       "      <th>42</th>\n",
       "      <td>China</td>\n",
       "      <td>2019</td>\n",
       "      <td>67</td>\n",
       "    </tr>\n",
       "    <tr>\n",
       "      <th>43</th>\n",
       "      <td>China</td>\n",
       "      <td>2020</td>\n",
       "      <td>76</td>\n",
       "    </tr>\n",
       "  </tbody>\n",
       "</table>\n",
       "</div>"
      ],
      "text/plain": [
       "   Country  Year  Count\n",
       "39   China  2016     42\n",
       "40   China  2017     50\n",
       "41   China  2018     48\n",
       "42   China  2019     67\n",
       "43   China  2020     76"
      ]
     },
     "execution_count": 82,
     "metadata": {},
     "output_type": "execute_result"
    }
   ],
   "source": [
    "dfcon[(dfcon['Country']=='China')]"
   ]
  },
  {
   "cell_type": "markdown",
   "metadata": {},
   "source": [
    "### No. of publications in United States for the past 5 years"
   ]
  },
  {
   "cell_type": "code",
   "execution_count": 83,
   "metadata": {},
   "outputs": [
    {
     "data": {
      "text/html": [
       "<div>\n",
       "<style scoped>\n",
       "    .dataframe tbody tr th:only-of-type {\n",
       "        vertical-align: middle;\n",
       "    }\n",
       "\n",
       "    .dataframe tbody tr th {\n",
       "        vertical-align: top;\n",
       "    }\n",
       "\n",
       "    .dataframe thead th {\n",
       "        text-align: right;\n",
       "    }\n",
       "</style>\n",
       "<table border=\"1\" class=\"dataframe\">\n",
       "  <thead>\n",
       "    <tr style=\"text-align: right;\">\n",
       "      <th></th>\n",
       "      <th>Country</th>\n",
       "      <th>Year</th>\n",
       "      <th>Count</th>\n",
       "    </tr>\n",
       "  </thead>\n",
       "  <tbody>\n",
       "    <tr>\n",
       "      <th>234</th>\n",
       "      <td>United States</td>\n",
       "      <td>2016</td>\n",
       "      <td>17</td>\n",
       "    </tr>\n",
       "    <tr>\n",
       "      <th>235</th>\n",
       "      <td>United States</td>\n",
       "      <td>2017</td>\n",
       "      <td>17</td>\n",
       "    </tr>\n",
       "    <tr>\n",
       "      <th>236</th>\n",
       "      <td>United States</td>\n",
       "      <td>2018</td>\n",
       "      <td>28</td>\n",
       "    </tr>\n",
       "    <tr>\n",
       "      <th>237</th>\n",
       "      <td>United States</td>\n",
       "      <td>2019</td>\n",
       "      <td>31</td>\n",
       "    </tr>\n",
       "    <tr>\n",
       "      <th>238</th>\n",
       "      <td>United States</td>\n",
       "      <td>2020</td>\n",
       "      <td>15</td>\n",
       "    </tr>\n",
       "  </tbody>\n",
       "</table>\n",
       "</div>"
      ],
      "text/plain": [
       "           Country  Year  Count\n",
       "234  United States  2016     17\n",
       "235  United States  2017     17\n",
       "236  United States  2018     28\n",
       "237  United States  2019     31\n",
       "238  United States  2020     15"
      ]
     },
     "execution_count": 83,
     "metadata": {},
     "output_type": "execute_result"
    }
   ],
   "source": [
    "dfcon[(dfcon['Country']=='United States')]"
   ]
  },
  {
   "cell_type": "code",
   "execution_count": 84,
   "metadata": {},
   "outputs": [
    {
     "name": "stderr",
     "output_type": "stream",
     "text": [
      "C:\\Users\\santr\\.conda\\envs\\tf\\lib\\site-packages\\seaborn\\_decorators.py:36: FutureWarning: Pass the following variables as keyword args: x, y. From version 0.12, the only valid positional argument will be `data`, and passing other arguments without an explicit keyword will result in an error or misinterpretation.\n",
      "  warnings.warn(\n"
     ]
    },
    {
     "data": {
      "image/png": "[encoded data removed]",
      "text/plain": [
       "<Figure size 576x576 with 1 Axes>"
      ]
     },
     "metadata": {
      "needs_background": "light"
     },
     "output_type": "display_data"
    }
   ],
   "source": [
    "p = dfcon[(dfcon['Country']=='United States')|(dfcon['Country']=='China')|(dfcon['Country']=='India')]\n",
    "plt.figure(figsize=(8,8))\n",
    "sns.barplot(p['Country'],p['Count'],hue=p['Year'])\n",
    "plt.show()"
   ]
  },
  {
   "cell_type": "markdown",
   "metadata": {},
   "source": [
    "## j) Total number of grants given to the field"
   ]
  },
  {
   "cell_type": "markdown",
   "metadata": {},
   "source": [
    "Grant is basically receiving funding from external organizations or institutions. In our case\n",
    "it was very easy to calculate grants, because we had already added Funding Details column in our\n",
    "database. We then simply compared that ‘Funding Details’ column with zero and find out\n",
    "number of grants."
   ]
  },
  {
   "cell_type": "code",
   "execution_count": 85,
   "metadata": {
    "scrolled": true
   },
   "outputs": [
    {
     "data": {
      "text/plain": [
       "476"
      ]
     },
     "execution_count": 85,
     "metadata": {},
     "output_type": "execute_result"
    }
   ],
   "source": [
    "df['Funding Details'].nunique()"
   ]
  },
  {
   "cell_type": "markdown",
   "metadata": {},
   "source": [
    "### The chosen field of 'bio-inspired' research has received 476 grants in the past 5 years."
   ]
  },
  {
   "cell_type": "markdown",
   "metadata": {},
   "source": [
    "## k) Country wise total number of publication"
   ]
  },
  {
   "cell_type": "markdown",
   "metadata": {},
   "source": [
    "This is again simply because we had list of countries and also in our dataset there is\n",
    "country column.So we just count and display the country name and count column:"
   ]
  },
  {
   "cell_type": "code",
   "execution_count": 86,
   "metadata": {},
   "outputs": [
    {
     "data": {
      "text/html": [
       "<div>\n",
       "<style scoped>\n",
       "    .dataframe tbody tr th:only-of-type {\n",
       "        vertical-align: middle;\n",
       "    }\n",
       "\n",
       "    .dataframe tbody tr th {\n",
       "        vertical-align: top;\n",
       "    }\n",
       "\n",
       "    .dataframe thead th {\n",
       "        text-align: right;\n",
       "    }\n",
       "</style>\n",
       "<table border=\"1\" class=\"dataframe\">\n",
       "  <thead>\n",
       "    <tr style=\"text-align: right;\">\n",
       "      <th></th>\n",
       "      <th>Country</th>\n",
       "      <th>Count</th>\n",
       "    </tr>\n",
       "  </thead>\n",
       "  <tbody>\n",
       "    <tr>\n",
       "      <th>10</th>\n",
       "      <td>China</td>\n",
       "      <td>283</td>\n",
       "    </tr>\n",
       "    <tr>\n",
       "      <th>27</th>\n",
       "      <td>India</td>\n",
       "      <td>242</td>\n",
       "    </tr>\n",
       "    <tr>\n",
       "      <th>73</th>\n",
       "      <td>United States</td>\n",
       "      <td>108</td>\n",
       "    </tr>\n",
       "    <tr>\n",
       "      <th>72</th>\n",
       "      <td>United Kingdom</td>\n",
       "      <td>69</td>\n",
       "    </tr>\n",
       "    <tr>\n",
       "      <th>63</th>\n",
       "      <td>Spain</td>\n",
       "      <td>66</td>\n",
       "    </tr>\n",
       "    <tr>\n",
       "      <th>33</th>\n",
       "      <td>Italy</td>\n",
       "      <td>60</td>\n",
       "    </tr>\n",
       "    <tr>\n",
       "      <th>62</th>\n",
       "      <td>South Korea</td>\n",
       "      <td>43</td>\n",
       "    </tr>\n",
       "    <tr>\n",
       "      <th>41</th>\n",
       "      <td>Malaysia</td>\n",
       "      <td>41</td>\n",
       "    </tr>\n",
       "    <tr>\n",
       "      <th>42</th>\n",
       "      <td>Mexico</td>\n",
       "      <td>40</td>\n",
       "    </tr>\n",
       "    <tr>\n",
       "      <th>23</th>\n",
       "      <td>Germany</td>\n",
       "      <td>39</td>\n",
       "    </tr>\n",
       "  </tbody>\n",
       "</table>\n",
       "</div>"
      ],
      "text/plain": [
       "           Country  Count\n",
       "10           China    283\n",
       "27           India    242\n",
       "73   United States    108\n",
       "72  United Kingdom     69\n",
       "63           Spain     66\n",
       "33           Italy     60\n",
       "62     South Korea     43\n",
       "41        Malaysia     41\n",
       "42          Mexico     40\n",
       "23         Germany     39"
      ]
     },
     "execution_count": 86,
     "metadata": {},
     "output_type": "execute_result"
    }
   ],
   "source": [
    "dfpub = pd.DataFrame(df1.groupby('Country').sum()['Count']).reset_index()\n",
    "dfpub = dfpub.sort_values(by=['Count'],ascending=False)\n",
    "dfpub.head(10)"
   ]
  },
  {
   "cell_type": "code",
   "execution_count": 87,
   "metadata": {},
   "outputs": [
    {
     "name": "stderr",
     "output_type": "stream",
     "text": [
      "C:\\Users\\santr\\.conda\\envs\\tf\\lib\\site-packages\\seaborn\\_decorators.py:36: FutureWarning: Pass the following variables as keyword args: x, y. From version 0.12, the only valid positional argument will be `data`, and passing other arguments without an explicit keyword will result in an error or misinterpretation.\n",
      "  warnings.warn(\n"
     ]
    },
    {
     "data": {
      "image/png": "[encoded data removed]",
      "text/plain": [
       "<Figure size 1152x576 with 1 Axes>"
      ]
     },
     "metadata": {
      "needs_background": "light"
     },
     "output_type": "display_data"
    }
   ],
   "source": [
    "plt.figure(figsize=(16,8))\n",
    "sns.barplot(dfpub['Country'][:10],dfpub['Count'][:10])\n",
    "plt.show()"
   ]
  },
  {
   "cell_type": "code",
   "execution_count": null,
   "metadata": {},
   "outputs": [],
   "source": []
  }
 ],
 "metadata": {
  "kernelspec": {
   "display_name": "Python 3 (ipykernel)",
   "language": "python",
   "name": "python3"
  },
  "language_info": {
   "codemirror_mode": {
    "name": "ipython",
    "version": 3
   },
   "file_extension": ".py",
   "mimetype": "text/x-python",
   "name": "python",
   "nbconvert_exporter": "python",
   "pygments_lexer": "ipython3",
   "version": "3.9.12"
  }
 },
 "nbformat": 4,
 "nbformat_minor": 4
}
